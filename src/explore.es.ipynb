{
 "cells": [
  {
   "cell_type": "markdown",
   "metadata": {},
   "source": [
    "# Explora aquí\n",
    "\n",
    "Se recomienda utilizar este cuaderno con fines de exploración.\n",
    "\n",
    "Por ejemplo:\n",
    "\n",
    "1. Puede importar el CSV generado por Python a su computadora portátil y explorarlo.\n",
    "2. Puede conectarse a su base de datos usando `pandas.read_sql` desde este cuaderno y explorarla."
   ]
  },
  {
   "cell_type": "code",
   "execution_count": 2,
   "metadata": {},
   "outputs": [
    {
     "name": "stdout",
     "output_type": "stream",
     "text": [
      "Defaulting to user installation because normal site-packages is not writeable\n",
      "Requirement already satisfied: python-dotenv in /workspace/.pyenv_mirror/user/current/lib/python3.10/site-packages (0.20.0)\n"
     ]
    }
   ],
   "source": [
    "!pip install python-dotenv"
   ]
  },
  {
   "cell_type": "code",
   "execution_count": 3,
   "metadata": {},
   "outputs": [
    {
     "name": "stdout",
     "output_type": "stream",
     "text": [
      "psql (PostgreSQL) 12.20 (Ubuntu 12.20-1.pgdg22.04+1)\n",
      "createdb: error: database creation failed: ERROR:  database \"sample_db\" already exists\n",
      "psql: error: connection to server at \"127.0.0.1\", port 5432 failed: FATAL:  role \"postgres\" does not exist\n",
      "psql (12.20 (Ubuntu 12.20-1.pgdg22.04+1))\n",
      "Type \"help\" for help.\n",
      "\n",
      "\u001b[?2004hsample_db=# ^C\u001b[?2004l\n",
      "\u001b[?2004hsample_db=# "
     ]
    }
   ],
   "source": [
    "!psql --version\n",
    "!createdb -h localhost -U gitpod sample_db\n",
    "!psql -U postgres -c \"CREATE DATABASE sample_db OWNER gitpod;\"\n",
    "!psql -h localhost -U gitpod sample_db"
   ]
  },
  {
   "cell_type": "code",
   "execution_count": 4,
   "metadata": {},
   "outputs": [
    {
     "name": "stdout",
     "output_type": "stream",
     "text": [
      "Defaulting to user installation because normal site-packages is not writeable\n",
      "Requirement already satisfied: sqlalchemy in /workspace/.pyenv_mirror/user/current/lib/python3.10/site-packages (from -r /workspace/LC_connecting-to-a-sql-database-project-tutorial/requirements.txt (line 2)) (2.0.37)\n",
      "Requirement already satisfied: pandas in /workspace/.pyenv_mirror/user/current/lib/python3.10/site-packages (from -r /workspace/LC_connecting-to-a-sql-database-project-tutorial/requirements.txt (line 3)) (2.2.3)\n",
      "Requirement already satisfied: python-dotenv==0.20.0 in /workspace/.pyenv_mirror/user/current/lib/python3.10/site-packages (from -r /workspace/LC_connecting-to-a-sql-database-project-tutorial/requirements.txt (line 4)) (0.20.0)\n",
      "Requirement already satisfied: psycopg2-binary==2.9.3 in /workspace/.pyenv_mirror/user/current/lib/python3.10/site-packages (from -r /workspace/LC_connecting-to-a-sql-database-project-tutorial/requirements.txt (line 5)) (2.9.3)\n",
      "Requirement already satisfied: numpy>=1.18.5 in /workspace/.pyenv_mirror/user/current/lib/python3.10/site-packages (from -r /workspace/LC_connecting-to-a-sql-database-project-tutorial/requirements.txt (line 7)) (2.2.2)\n",
      "Requirement already satisfied: jupyter==1.* in /workspace/.pyenv_mirror/user/current/lib/python3.10/site-packages (from -r /workspace/LC_connecting-to-a-sql-database-project-tutorial/requirements.txt (line 12)) (1.1.1)\n",
      "Requirement already satisfied: jupyterlab in /workspace/.pyenv_mirror/user/current/lib/python3.10/site-packages (from jupyter==1.*->-r /workspace/LC_connecting-to-a-sql-database-project-tutorial/requirements.txt (line 12)) (4.3.4)\n",
      "Requirement already satisfied: notebook in /workspace/.pyenv_mirror/user/current/lib/python3.10/site-packages (from jupyter==1.*->-r /workspace/LC_connecting-to-a-sql-database-project-tutorial/requirements.txt (line 12)) (7.3.2)\n",
      "Requirement already satisfied: jupyter-console in /workspace/.pyenv_mirror/user/current/lib/python3.10/site-packages (from jupyter==1.*->-r /workspace/LC_connecting-to-a-sql-database-project-tutorial/requirements.txt (line 12)) (6.6.3)\n",
      "Requirement already satisfied: ipywidgets in /workspace/.pyenv_mirror/user/current/lib/python3.10/site-packages (from jupyter==1.*->-r /workspace/LC_connecting-to-a-sql-database-project-tutorial/requirements.txt (line 12)) (8.1.5)\n",
      "Requirement already satisfied: nbconvert in /workspace/.pyenv_mirror/user/current/lib/python3.10/site-packages (from jupyter==1.*->-r /workspace/LC_connecting-to-a-sql-database-project-tutorial/requirements.txt (line 12)) (7.16.5)\n",
      "Requirement already satisfied: ipykernel in /workspace/.pyenv_mirror/user/current/lib/python3.10/site-packages (from jupyter==1.*->-r /workspace/LC_connecting-to-a-sql-database-project-tutorial/requirements.txt (line 12)) (6.29.5)\n",
      "Requirement already satisfied: typing-extensions>=4.6.0 in /workspace/.pyenv_mirror/user/current/lib/python3.10/site-packages (from sqlalchemy->-r /workspace/LC_connecting-to-a-sql-database-project-tutorial/requirements.txt (line 2)) (4.12.2)\n",
      "Requirement already satisfied: greenlet!=0.4.17 in /workspace/.pyenv_mirror/user/current/lib/python3.10/site-packages (from sqlalchemy->-r /workspace/LC_connecting-to-a-sql-database-project-tutorial/requirements.txt (line 2)) (3.1.1)\n",
      "Requirement already satisfied: pytz>=2020.1 in /workspace/.pyenv_mirror/user/current/lib/python3.10/site-packages (from pandas->-r /workspace/LC_connecting-to-a-sql-database-project-tutorial/requirements.txt (line 3)) (2024.2)\n",
      "Requirement already satisfied: tzdata>=2022.7 in /workspace/.pyenv_mirror/user/current/lib/python3.10/site-packages (from pandas->-r /workspace/LC_connecting-to-a-sql-database-project-tutorial/requirements.txt (line 3)) (2025.1)\n",
      "Requirement already satisfied: python-dateutil>=2.8.2 in /workspace/.pyenv_mirror/user/current/lib/python3.10/site-packages (from pandas->-r /workspace/LC_connecting-to-a-sql-database-project-tutorial/requirements.txt (line 3)) (2.9.0.post0)\n",
      "Requirement already satisfied: six>=1.5 in /usr/lib/python3/dist-packages (from python-dateutil>=2.8.2->pandas->-r /workspace/LC_connecting-to-a-sql-database-project-tutorial/requirements.txt (line 3)) (1.16.0)\n",
      "Requirement already satisfied: tornado>=6.1 in /workspace/.pyenv_mirror/user/current/lib/python3.10/site-packages (from ipykernel->jupyter==1.*->-r /workspace/LC_connecting-to-a-sql-database-project-tutorial/requirements.txt (line 12)) (6.4.2)\n",
      "Requirement already satisfied: matplotlib-inline>=0.1 in /workspace/.pyenv_mirror/user/current/lib/python3.10/site-packages (from ipykernel->jupyter==1.*->-r /workspace/LC_connecting-to-a-sql-database-project-tutorial/requirements.txt (line 12)) (0.1.7)\n",
      "Requirement already satisfied: jupyter-client>=6.1.12 in /workspace/.pyenv_mirror/user/current/lib/python3.10/site-packages (from ipykernel->jupyter==1.*->-r /workspace/LC_connecting-to-a-sql-database-project-tutorial/requirements.txt (line 12)) (8.6.3)\n",
      "Requirement already satisfied: nest-asyncio in /workspace/.pyenv_mirror/user/current/lib/python3.10/site-packages (from ipykernel->jupyter==1.*->-r /workspace/LC_connecting-to-a-sql-database-project-tutorial/requirements.txt (line 12)) (1.6.0)\n",
      "Requirement already satisfied: packaging in /workspace/.pyenv_mirror/user/current/lib/python3.10/site-packages (from ipykernel->jupyter==1.*->-r /workspace/LC_connecting-to-a-sql-database-project-tutorial/requirements.txt (line 12)) (24.2)\n",
      "Requirement already satisfied: psutil in /workspace/.pyenv_mirror/user/current/lib/python3.10/site-packages (from ipykernel->jupyter==1.*->-r /workspace/LC_connecting-to-a-sql-database-project-tutorial/requirements.txt (line 12)) (6.1.1)\n",
      "Requirement already satisfied: pyzmq>=24 in /workspace/.pyenv_mirror/user/current/lib/python3.10/site-packages (from ipykernel->jupyter==1.*->-r /workspace/LC_connecting-to-a-sql-database-project-tutorial/requirements.txt (line 12)) (26.2.0)\n",
      "Requirement already satisfied: traitlets>=5.4.0 in /workspace/.pyenv_mirror/user/current/lib/python3.10/site-packages (from ipykernel->jupyter==1.*->-r /workspace/LC_connecting-to-a-sql-database-project-tutorial/requirements.txt (line 12)) (5.14.3)\n",
      "Requirement already satisfied: ipython>=7.23.1 in /workspace/.pyenv_mirror/user/current/lib/python3.10/site-packages (from ipykernel->jupyter==1.*->-r /workspace/LC_connecting-to-a-sql-database-project-tutorial/requirements.txt (line 12)) (8.31.0)\n",
      "Requirement already satisfied: jupyter-core!=5.0.*,>=4.12 in /workspace/.pyenv_mirror/user/current/lib/python3.10/site-packages (from ipykernel->jupyter==1.*->-r /workspace/LC_connecting-to-a-sql-database-project-tutorial/requirements.txt (line 12)) (5.7.2)\n",
      "Requirement already satisfied: comm>=0.1.1 in /workspace/.pyenv_mirror/user/current/lib/python3.10/site-packages (from ipykernel->jupyter==1.*->-r /workspace/LC_connecting-to-a-sql-database-project-tutorial/requirements.txt (line 12)) (0.2.2)\n",
      "Requirement already satisfied: debugpy>=1.6.5 in /workspace/.pyenv_mirror/user/current/lib/python3.10/site-packages (from ipykernel->jupyter==1.*->-r /workspace/LC_connecting-to-a-sql-database-project-tutorial/requirements.txt (line 12)) (1.8.12)\n",
      "Requirement already satisfied: widgetsnbextension~=4.0.12 in /workspace/.pyenv_mirror/user/current/lib/python3.10/site-packages (from ipywidgets->jupyter==1.*->-r /workspace/LC_connecting-to-a-sql-database-project-tutorial/requirements.txt (line 12)) (4.0.13)\n",
      "Requirement already satisfied: jupyterlab-widgets~=3.0.12 in /workspace/.pyenv_mirror/user/current/lib/python3.10/site-packages (from ipywidgets->jupyter==1.*->-r /workspace/LC_connecting-to-a-sql-database-project-tutorial/requirements.txt (line 12)) (3.0.13)\n",
      "Requirement already satisfied: prompt-toolkit>=3.0.30 in /workspace/.pyenv_mirror/user/current/lib/python3.10/site-packages (from jupyter-console->jupyter==1.*->-r /workspace/LC_connecting-to-a-sql-database-project-tutorial/requirements.txt (line 12)) (3.0.50)\n",
      "Requirement already satisfied: pygments in /workspace/.pyenv_mirror/user/current/lib/python3.10/site-packages (from jupyter-console->jupyter==1.*->-r /workspace/LC_connecting-to-a-sql-database-project-tutorial/requirements.txt (line 12)) (2.19.1)\n",
      "Requirement already satisfied: httpx>=0.25.0 in /workspace/.pyenv_mirror/user/current/lib/python3.10/site-packages (from jupyterlab->jupyter==1.*->-r /workspace/LC_connecting-to-a-sql-database-project-tutorial/requirements.txt (line 12)) (0.28.1)\n",
      "Requirement already satisfied: notebook-shim>=0.2 in /workspace/.pyenv_mirror/user/current/lib/python3.10/site-packages (from jupyterlab->jupyter==1.*->-r /workspace/LC_connecting-to-a-sql-database-project-tutorial/requirements.txt (line 12)) (0.2.4)\n",
      "Requirement already satisfied: jupyterlab-server<3,>=2.27.1 in /workspace/.pyenv_mirror/user/current/lib/python3.10/site-packages (from jupyterlab->jupyter==1.*->-r /workspace/LC_connecting-to-a-sql-database-project-tutorial/requirements.txt (line 12)) (2.27.3)\n",
      "Requirement already satisfied: jupyter-server<3,>=2.4.0 in /workspace/.pyenv_mirror/user/current/lib/python3.10/site-packages (from jupyterlab->jupyter==1.*->-r /workspace/LC_connecting-to-a-sql-database-project-tutorial/requirements.txt (line 12)) (2.15.0)\n",
      "Requirement already satisfied: tomli>=1.2.2 in /workspace/.pyenv_mirror/user/current/lib/python3.10/site-packages (from jupyterlab->jupyter==1.*->-r /workspace/LC_connecting-to-a-sql-database-project-tutorial/requirements.txt (line 12)) (2.2.1)\n",
      "Requirement already satisfied: jinja2>=3.0.3 in /workspace/.pyenv_mirror/user/current/lib/python3.10/site-packages (from jupyterlab->jupyter==1.*->-r /workspace/LC_connecting-to-a-sql-database-project-tutorial/requirements.txt (line 12)) (3.1.5)\n",
      "Requirement already satisfied: jupyter-lsp>=2.0.0 in /workspace/.pyenv_mirror/user/current/lib/python3.10/site-packages (from jupyterlab->jupyter==1.*->-r /workspace/LC_connecting-to-a-sql-database-project-tutorial/requirements.txt (line 12)) (2.2.5)\n",
      "Requirement already satisfied: setuptools>=40.8.0 in /usr/lib/python3/dist-packages (from jupyterlab->jupyter==1.*->-r /workspace/LC_connecting-to-a-sql-database-project-tutorial/requirements.txt (line 12)) (59.6.0)\n",
      "Requirement already satisfied: async-lru>=1.0.0 in /workspace/.pyenv_mirror/user/current/lib/python3.10/site-packages (from jupyterlab->jupyter==1.*->-r /workspace/LC_connecting-to-a-sql-database-project-tutorial/requirements.txt (line 12)) (2.0.4)\n",
      "Requirement already satisfied: bleach[css]!=5.0.0 in /workspace/.pyenv_mirror/user/current/lib/python3.10/site-packages (from nbconvert->jupyter==1.*->-r /workspace/LC_connecting-to-a-sql-database-project-tutorial/requirements.txt (line 12)) (6.2.0)\n",
      "Requirement already satisfied: pandocfilters>=1.4.1 in /workspace/.pyenv_mirror/user/current/lib/python3.10/site-packages (from nbconvert->jupyter==1.*->-r /workspace/LC_connecting-to-a-sql-database-project-tutorial/requirements.txt (line 12)) (1.5.1)\n",
      "Requirement already satisfied: defusedxml in /workspace/.pyenv_mirror/user/current/lib/python3.10/site-packages (from nbconvert->jupyter==1.*->-r /workspace/LC_connecting-to-a-sql-database-project-tutorial/requirements.txt (line 12)) (0.7.1)\n",
      "Requirement already satisfied: markupsafe>=2.0 in /workspace/.pyenv_mirror/user/current/lib/python3.10/site-packages (from nbconvert->jupyter==1.*->-r /workspace/LC_connecting-to-a-sql-database-project-tutorial/requirements.txt (line 12)) (3.0.2)\n",
      "Requirement already satisfied: mistune<4,>=2.0.3 in /workspace/.pyenv_mirror/user/current/lib/python3.10/site-packages (from nbconvert->jupyter==1.*->-r /workspace/LC_connecting-to-a-sql-database-project-tutorial/requirements.txt (line 12)) (3.1.0)\n",
      "Requirement already satisfied: beautifulsoup4 in /workspace/.pyenv_mirror/user/current/lib/python3.10/site-packages (from nbconvert->jupyter==1.*->-r /workspace/LC_connecting-to-a-sql-database-project-tutorial/requirements.txt (line 12)) (4.12.3)\n",
      "Requirement already satisfied: nbformat>=5.7 in /workspace/.pyenv_mirror/user/current/lib/python3.10/site-packages (from nbconvert->jupyter==1.*->-r /workspace/LC_connecting-to-a-sql-database-project-tutorial/requirements.txt (line 12)) (5.10.4)\n",
      "Requirement already satisfied: jupyterlab-pygments in /workspace/.pyenv_mirror/user/current/lib/python3.10/site-packages (from nbconvert->jupyter==1.*->-r /workspace/LC_connecting-to-a-sql-database-project-tutorial/requirements.txt (line 12)) (0.3.0)\n",
      "Requirement already satisfied: nbclient>=0.5.0 in /workspace/.pyenv_mirror/user/current/lib/python3.10/site-packages (from nbconvert->jupyter==1.*->-r /workspace/LC_connecting-to-a-sql-database-project-tutorial/requirements.txt (line 12)) (0.10.2)\n",
      "Requirement already satisfied: webencodings in /workspace/.pyenv_mirror/user/current/lib/python3.10/site-packages (from bleach[css]!=5.0.0->nbconvert->jupyter==1.*->-r /workspace/LC_connecting-to-a-sql-database-project-tutorial/requirements.txt (line 12)) (0.5.1)\n",
      "Requirement already satisfied: tinycss2<1.5,>=1.1.0 in /workspace/.pyenv_mirror/user/current/lib/python3.10/site-packages (from bleach[css]!=5.0.0->nbconvert->jupyter==1.*->-r /workspace/LC_connecting-to-a-sql-database-project-tutorial/requirements.txt (line 12)) (1.4.0)\n",
      "Requirement already satisfied: idna in /workspace/.pyenv_mirror/user/current/lib/python3.10/site-packages (from httpx>=0.25.0->jupyterlab->jupyter==1.*->-r /workspace/LC_connecting-to-a-sql-database-project-tutorial/requirements.txt (line 12)) (3.10)\n",
      "Requirement already satisfied: certifi in /workspace/.pyenv_mirror/user/current/lib/python3.10/site-packages (from httpx>=0.25.0->jupyterlab->jupyter==1.*->-r /workspace/LC_connecting-to-a-sql-database-project-tutorial/requirements.txt (line 12)) (2024.12.14)\n",
      "Requirement already satisfied: httpcore==1.* in /workspace/.pyenv_mirror/user/current/lib/python3.10/site-packages (from httpx>=0.25.0->jupyterlab->jupyter==1.*->-r /workspace/LC_connecting-to-a-sql-database-project-tutorial/requirements.txt (line 12)) (1.0.7)\n",
      "Requirement already satisfied: anyio in /workspace/.pyenv_mirror/user/current/lib/python3.10/site-packages (from httpx>=0.25.0->jupyterlab->jupyter==1.*->-r /workspace/LC_connecting-to-a-sql-database-project-tutorial/requirements.txt (line 12)) (4.8.0)\n",
      "Requirement already satisfied: h11<0.15,>=0.13 in /workspace/.pyenv_mirror/user/current/lib/python3.10/site-packages (from httpcore==1.*->httpx>=0.25.0->jupyterlab->jupyter==1.*->-r /workspace/LC_connecting-to-a-sql-database-project-tutorial/requirements.txt (line 12)) (0.14.0)\n",
      "Requirement already satisfied: exceptiongroup in /workspace/.pyenv_mirror/user/current/lib/python3.10/site-packages (from ipython>=7.23.1->ipykernel->jupyter==1.*->-r /workspace/LC_connecting-to-a-sql-database-project-tutorial/requirements.txt (line 12)) (1.2.2)\n",
      "Requirement already satisfied: stack_data in /workspace/.pyenv_mirror/user/current/lib/python3.10/site-packages (from ipython>=7.23.1->ipykernel->jupyter==1.*->-r /workspace/LC_connecting-to-a-sql-database-project-tutorial/requirements.txt (line 12)) (0.6.3)\n",
      "Requirement already satisfied: decorator in /workspace/.pyenv_mirror/user/current/lib/python3.10/site-packages (from ipython>=7.23.1->ipykernel->jupyter==1.*->-r /workspace/LC_connecting-to-a-sql-database-project-tutorial/requirements.txt (line 12)) (5.1.1)\n",
      "Requirement already satisfied: jedi>=0.16 in /workspace/.pyenv_mirror/user/current/lib/python3.10/site-packages (from ipython>=7.23.1->ipykernel->jupyter==1.*->-r /workspace/LC_connecting-to-a-sql-database-project-tutorial/requirements.txt (line 12)) (0.19.2)\n",
      "Requirement already satisfied: pexpect>4.3 in /workspace/.pyenv_mirror/user/current/lib/python3.10/site-packages (from ipython>=7.23.1->ipykernel->jupyter==1.*->-r /workspace/LC_connecting-to-a-sql-database-project-tutorial/requirements.txt (line 12)) (4.9.0)\n",
      "Requirement already satisfied: platformdirs>=2.5 in /workspace/.pyenv_mirror/user/current/lib/python3.10/site-packages (from jupyter-core!=5.0.*,>=4.12->ipykernel->jupyter==1.*->-r /workspace/LC_connecting-to-a-sql-database-project-tutorial/requirements.txt (line 12)) (4.3.6)\n",
      "Requirement already satisfied: terminado>=0.8.3 in /workspace/.pyenv_mirror/user/current/lib/python3.10/site-packages (from jupyter-server<3,>=2.4.0->jupyterlab->jupyter==1.*->-r /workspace/LC_connecting-to-a-sql-database-project-tutorial/requirements.txt (line 12)) (0.18.1)\n",
      "Requirement already satisfied: websocket-client>=1.7 in /workspace/.pyenv_mirror/user/current/lib/python3.10/site-packages (from jupyter-server<3,>=2.4.0->jupyterlab->jupyter==1.*->-r /workspace/LC_connecting-to-a-sql-database-project-tutorial/requirements.txt (line 12)) (1.8.0)\n",
      "Requirement already satisfied: jupyter-events>=0.11.0 in /workspace/.pyenv_mirror/user/current/lib/python3.10/site-packages (from jupyter-server<3,>=2.4.0->jupyterlab->jupyter==1.*->-r /workspace/LC_connecting-to-a-sql-database-project-tutorial/requirements.txt (line 12)) (0.11.0)\n",
      "Requirement already satisfied: argon2-cffi>=21.1 in /workspace/.pyenv_mirror/user/current/lib/python3.10/site-packages (from jupyter-server<3,>=2.4.0->jupyterlab->jupyter==1.*->-r /workspace/LC_connecting-to-a-sql-database-project-tutorial/requirements.txt (line 12)) (23.1.0)\n",
      "Requirement already satisfied: overrides>=5.0 in /workspace/.pyenv_mirror/user/current/lib/python3.10/site-packages (from jupyter-server<3,>=2.4.0->jupyterlab->jupyter==1.*->-r /workspace/LC_connecting-to-a-sql-database-project-tutorial/requirements.txt (line 12)) (7.7.0)\n",
      "Requirement already satisfied: send2trash>=1.8.2 in /workspace/.pyenv_mirror/user/current/lib/python3.10/site-packages (from jupyter-server<3,>=2.4.0->jupyterlab->jupyter==1.*->-r /workspace/LC_connecting-to-a-sql-database-project-tutorial/requirements.txt (line 12)) (1.8.3)\n",
      "Requirement already satisfied: prometheus-client>=0.9 in /workspace/.pyenv_mirror/user/current/lib/python3.10/site-packages (from jupyter-server<3,>=2.4.0->jupyterlab->jupyter==1.*->-r /workspace/LC_connecting-to-a-sql-database-project-tutorial/requirements.txt (line 12)) (0.21.1)\n",
      "Requirement already satisfied: jupyter-server-terminals>=0.4.4 in /workspace/.pyenv_mirror/user/current/lib/python3.10/site-packages (from jupyter-server<3,>=2.4.0->jupyterlab->jupyter==1.*->-r /workspace/LC_connecting-to-a-sql-database-project-tutorial/requirements.txt (line 12)) (0.5.3)\n",
      "Requirement already satisfied: jsonschema>=4.18.0 in /workspace/.pyenv_mirror/user/current/lib/python3.10/site-packages (from jupyterlab-server<3,>=2.27.1->jupyterlab->jupyter==1.*->-r /workspace/LC_connecting-to-a-sql-database-project-tutorial/requirements.txt (line 12)) (4.23.0)\n",
      "Requirement already satisfied: json5>=0.9.0 in /workspace/.pyenv_mirror/user/current/lib/python3.10/site-packages (from jupyterlab-server<3,>=2.27.1->jupyterlab->jupyter==1.*->-r /workspace/LC_connecting-to-a-sql-database-project-tutorial/requirements.txt (line 12)) (0.10.0)\n",
      "Requirement already satisfied: babel>=2.10 in /workspace/.pyenv_mirror/user/current/lib/python3.10/site-packages (from jupyterlab-server<3,>=2.27.1->jupyterlab->jupyter==1.*->-r /workspace/LC_connecting-to-a-sql-database-project-tutorial/requirements.txt (line 12)) (2.16.0)\n",
      "Requirement already satisfied: requests>=2.31 in /workspace/.pyenv_mirror/user/current/lib/python3.10/site-packages (from jupyterlab-server<3,>=2.27.1->jupyterlab->jupyter==1.*->-r /workspace/LC_connecting-to-a-sql-database-project-tutorial/requirements.txt (line 12)) (2.32.3)\n",
      "Requirement already satisfied: fastjsonschema>=2.15 in /workspace/.pyenv_mirror/user/current/lib/python3.10/site-packages (from nbformat>=5.7->nbconvert->jupyter==1.*->-r /workspace/LC_connecting-to-a-sql-database-project-tutorial/requirements.txt (line 12)) (2.21.1)\n",
      "Requirement already satisfied: wcwidth in /workspace/.pyenv_mirror/user/current/lib/python3.10/site-packages (from prompt-toolkit>=3.0.30->jupyter-console->jupyter==1.*->-r /workspace/LC_connecting-to-a-sql-database-project-tutorial/requirements.txt (line 12)) (0.2.13)\n",
      "Requirement already satisfied: soupsieve>1.2 in /workspace/.pyenv_mirror/user/current/lib/python3.10/site-packages (from beautifulsoup4->nbconvert->jupyter==1.*->-r /workspace/LC_connecting-to-a-sql-database-project-tutorial/requirements.txt (line 12)) (2.6)\n",
      "Requirement already satisfied: sniffio>=1.1 in /workspace/.pyenv_mirror/user/current/lib/python3.10/site-packages (from anyio->httpx>=0.25.0->jupyterlab->jupyter==1.*->-r /workspace/LC_connecting-to-a-sql-database-project-tutorial/requirements.txt (line 12)) (1.3.1)\n",
      "Requirement already satisfied: argon2-cffi-bindings in /workspace/.pyenv_mirror/user/current/lib/python3.10/site-packages (from argon2-cffi>=21.1->jupyter-server<3,>=2.4.0->jupyterlab->jupyter==1.*->-r /workspace/LC_connecting-to-a-sql-database-project-tutorial/requirements.txt (line 12)) (21.2.0)\n",
      "Requirement already satisfied: parso<0.9.0,>=0.8.4 in /workspace/.pyenv_mirror/user/current/lib/python3.10/site-packages (from jedi>=0.16->ipython>=7.23.1->ipykernel->jupyter==1.*->-r /workspace/LC_connecting-to-a-sql-database-project-tutorial/requirements.txt (line 12)) (0.8.4)\n",
      "Requirement already satisfied: rpds-py>=0.7.1 in /workspace/.pyenv_mirror/user/current/lib/python3.10/site-packages (from jsonschema>=4.18.0->jupyterlab-server<3,>=2.27.1->jupyterlab->jupyter==1.*->-r /workspace/LC_connecting-to-a-sql-database-project-tutorial/requirements.txt (line 12)) (0.22.3)\n",
      "Requirement already satisfied: referencing>=0.28.4 in /workspace/.pyenv_mirror/user/current/lib/python3.10/site-packages (from jsonschema>=4.18.0->jupyterlab-server<3,>=2.27.1->jupyterlab->jupyter==1.*->-r /workspace/LC_connecting-to-a-sql-database-project-tutorial/requirements.txt (line 12)) (0.36.1)\n",
      "Requirement already satisfied: jsonschema-specifications>=2023.03.6 in /workspace/.pyenv_mirror/user/current/lib/python3.10/site-packages (from jsonschema>=4.18.0->jupyterlab-server<3,>=2.27.1->jupyterlab->jupyter==1.*->-r /workspace/LC_connecting-to-a-sql-database-project-tutorial/requirements.txt (line 12)) (2024.10.1)\n",
      "Requirement already satisfied: attrs>=22.2.0 in /workspace/.pyenv_mirror/user/current/lib/python3.10/site-packages (from jsonschema>=4.18.0->jupyterlab-server<3,>=2.27.1->jupyterlab->jupyter==1.*->-r /workspace/LC_connecting-to-a-sql-database-project-tutorial/requirements.txt (line 12)) (24.3.0)\n",
      "Requirement already satisfied: rfc3986-validator>=0.1.1 in /workspace/.pyenv_mirror/user/current/lib/python3.10/site-packages (from jupyter-events>=0.11.0->jupyter-server<3,>=2.4.0->jupyterlab->jupyter==1.*->-r /workspace/LC_connecting-to-a-sql-database-project-tutorial/requirements.txt (line 12)) (0.1.1)\n",
      "Requirement already satisfied: rfc3339-validator in /workspace/.pyenv_mirror/user/current/lib/python3.10/site-packages (from jupyter-events>=0.11.0->jupyter-server<3,>=2.4.0->jupyterlab->jupyter==1.*->-r /workspace/LC_connecting-to-a-sql-database-project-tutorial/requirements.txt (line 12)) (0.1.4)\n",
      "Requirement already satisfied: pyyaml>=5.3 in /usr/lib/python3/dist-packages (from jupyter-events>=0.11.0->jupyter-server<3,>=2.4.0->jupyterlab->jupyter==1.*->-r /workspace/LC_connecting-to-a-sql-database-project-tutorial/requirements.txt (line 12)) (5.4.1)\n",
      "Requirement already satisfied: python-json-logger>=2.0.4 in /workspace/.pyenv_mirror/user/current/lib/python3.10/site-packages (from jupyter-events>=0.11.0->jupyter-server<3,>=2.4.0->jupyterlab->jupyter==1.*->-r /workspace/LC_connecting-to-a-sql-database-project-tutorial/requirements.txt (line 12)) (3.2.1)\n",
      "Requirement already satisfied: ptyprocess>=0.5 in /workspace/.pyenv_mirror/user/current/lib/python3.10/site-packages (from pexpect>4.3->ipython>=7.23.1->ipykernel->jupyter==1.*->-r /workspace/LC_connecting-to-a-sql-database-project-tutorial/requirements.txt (line 12)) (0.7.0)\n",
      "Requirement already satisfied: charset-normalizer<4,>=2 in /workspace/.pyenv_mirror/user/current/lib/python3.10/site-packages (from requests>=2.31->jupyterlab-server<3,>=2.27.1->jupyterlab->jupyter==1.*->-r /workspace/LC_connecting-to-a-sql-database-project-tutorial/requirements.txt (line 12)) (3.4.1)\n",
      "Requirement already satisfied: urllib3<3,>=1.21.1 in /workspace/.pyenv_mirror/user/current/lib/python3.10/site-packages (from requests>=2.31->jupyterlab-server<3,>=2.27.1->jupyterlab->jupyter==1.*->-r /workspace/LC_connecting-to-a-sql-database-project-tutorial/requirements.txt (line 12)) (2.3.0)\n",
      "Requirement already satisfied: asttokens>=2.1.0 in /workspace/.pyenv_mirror/user/current/lib/python3.10/site-packages (from stack_data->ipython>=7.23.1->ipykernel->jupyter==1.*->-r /workspace/LC_connecting-to-a-sql-database-project-tutorial/requirements.txt (line 12)) (3.0.0)\n",
      "Requirement already satisfied: pure-eval in /workspace/.pyenv_mirror/user/current/lib/python3.10/site-packages (from stack_data->ipython>=7.23.1->ipykernel->jupyter==1.*->-r /workspace/LC_connecting-to-a-sql-database-project-tutorial/requirements.txt (line 12)) (0.2.3)\n",
      "Requirement already satisfied: executing>=1.2.0 in /workspace/.pyenv_mirror/user/current/lib/python3.10/site-packages (from stack_data->ipython>=7.23.1->ipykernel->jupyter==1.*->-r /workspace/LC_connecting-to-a-sql-database-project-tutorial/requirements.txt (line 12)) (2.2.0)\n",
      "Requirement already satisfied: uri-template in /workspace/.pyenv_mirror/user/current/lib/python3.10/site-packages (from jsonschema>=4.18.0->jupyterlab-server<3,>=2.27.1->jupyterlab->jupyter==1.*->-r /workspace/LC_connecting-to-a-sql-database-project-tutorial/requirements.txt (line 12)) (1.3.0)\n",
      "Requirement already satisfied: fqdn in /workspace/.pyenv_mirror/user/current/lib/python3.10/site-packages (from jsonschema>=4.18.0->jupyterlab-server<3,>=2.27.1->jupyterlab->jupyter==1.*->-r /workspace/LC_connecting-to-a-sql-database-project-tutorial/requirements.txt (line 12)) (1.5.1)\n",
      "Requirement already satisfied: jsonpointer>1.13 in /workspace/.pyenv_mirror/user/current/lib/python3.10/site-packages (from jsonschema>=4.18.0->jupyterlab-server<3,>=2.27.1->jupyterlab->jupyter==1.*->-r /workspace/LC_connecting-to-a-sql-database-project-tutorial/requirements.txt (line 12)) (3.0.0)\n",
      "Requirement already satisfied: webcolors>=24.6.0 in /workspace/.pyenv_mirror/user/current/lib/python3.10/site-packages (from jsonschema>=4.18.0->jupyterlab-server<3,>=2.27.1->jupyterlab->jupyter==1.*->-r /workspace/LC_connecting-to-a-sql-database-project-tutorial/requirements.txt (line 12)) (24.11.1)\n",
      "Requirement already satisfied: isoduration in /workspace/.pyenv_mirror/user/current/lib/python3.10/site-packages (from jsonschema>=4.18.0->jupyterlab-server<3,>=2.27.1->jupyterlab->jupyter==1.*->-r /workspace/LC_connecting-to-a-sql-database-project-tutorial/requirements.txt (line 12)) (20.11.0)\n",
      "Requirement already satisfied: cffi>=1.0.1 in /workspace/.pyenv_mirror/user/current/lib/python3.10/site-packages (from argon2-cffi-bindings->argon2-cffi>=21.1->jupyter-server<3,>=2.4.0->jupyterlab->jupyter==1.*->-r /workspace/LC_connecting-to-a-sql-database-project-tutorial/requirements.txt (line 12)) (1.17.1)\n",
      "Requirement already satisfied: pycparser in /workspace/.pyenv_mirror/user/current/lib/python3.10/site-packages (from cffi>=1.0.1->argon2-cffi-bindings->argon2-cffi>=21.1->jupyter-server<3,>=2.4.0->jupyterlab->jupyter==1.*->-r /workspace/LC_connecting-to-a-sql-database-project-tutorial/requirements.txt (line 12)) (2.22)\n",
      "Requirement already satisfied: arrow>=0.15.0 in /workspace/.pyenv_mirror/user/current/lib/python3.10/site-packages (from isoduration->jsonschema>=4.18.0->jupyterlab-server<3,>=2.27.1->jupyterlab->jupyter==1.*->-r /workspace/LC_connecting-to-a-sql-database-project-tutorial/requirements.txt (line 12)) (1.3.0)\n",
      "Requirement already satisfied: types-python-dateutil>=2.8.10 in /workspace/.pyenv_mirror/user/current/lib/python3.10/site-packages (from arrow>=0.15.0->isoduration->jsonschema>=4.18.0->jupyterlab-server<3,>=2.27.1->jupyterlab->jupyter==1.*->-r /workspace/LC_connecting-to-a-sql-database-project-tutorial/requirements.txt (line 12)) (2.9.0.20241206)\n"
     ]
    }
   ],
   "source": [
    "!pip install -r /workspace/LC_connecting-to-a-sql-database-project-tutorial/requirements.txt"
   ]
  },
  {
   "cell_type": "code",
   "execution_count": 12,
   "metadata": {},
   "outputs": [
    {
     "data": {
      "text/plain": [
       "<sqlalchemy.engine.base.Connection at 0x7fb1d0e340d0>"
      ]
     },
     "execution_count": 12,
     "metadata": {},
     "output_type": "execute_result"
    }
   ],
   "source": [
    "# Ejemplo de lectura de la base de datos SQL desde aquí\n",
    "import os\n",
    "from dotenv import load_dotenv\n",
    "from sqlalchemy import create_engine\n",
    "import pandas as pd\n",
    "import sqlalchemy as sa\n",
    "from sqlalchemy import text\n",
    "\n",
    "# cargar las variables del archivo .env\n",
    "load_dotenv()\n",
    "\n",
    "connection_string = f\"postgresql://{os.getenv('DB_USER')}:{os.getenv('DB_PASSWORD')}@{os.getenv('DB_HOST')}/{os.getenv('DB_NAME')}\"\n",
    "engine = create_engine(connection_string).execution_options(autocommit=True)\n",
    "engine.connect()\n",
    "\n",
    "# dataframe = pd.read_sql(\"Select * from books;\", engine)\n",
    "# print(dataframe.describe())"
   ]
  },
  {
   "cell_type": "code",
   "execution_count": 6,
   "metadata": {},
   "outputs": [
    {
     "data": {
      "text/plain": [
       "<sqlalchemy.engine.cursor.CursorResult at 0x7fb1d0e38760>"
      ]
     },
     "execution_count": 6,
     "metadata": {},
     "output_type": "execute_result"
    }
   ],
   "source": [
    "query= \"\"\"CREATE TABLE publishers(\n",
    "    publisher_id INT NOT NULL,\n",
    "    name VARCHAR(255) NOT NULL,\n",
    "    PRIMARY KEY(publisher_id)\n",
    ");\n",
    "\n",
    "CREATE TABLE authors(\n",
    "    author_id INT NOT NULL,\n",
    "    first_name VARCHAR(100) NOT NULL,\n",
    "    middle_name VARCHAR(50) NULL,\n",
    "    last_name VARCHAR(100) NULL,\n",
    "    PRIMARY KEY(author_id)\n",
    ");\n",
    "\n",
    "CREATE TABLE books(\n",
    "    book_id INT NOT NULL,\n",
    "    title VARCHAR(255) NOT NULL,\n",
    "    total_pages INT NULL,\n",
    "    rating DECIMAL(4, 2) NULL,\n",
    "    isbn VARCHAR(13) NULL,\n",
    "    published_date DATE,\n",
    "    publisher_id INT NULL,\n",
    "    PRIMARY KEY(book_id),\n",
    "    CONSTRAINT fk_publisher FOREIGN KEY(publisher_id) REFERENCES publishers(publisher_id)\n",
    ");\n",
    "\n",
    "CREATE TABLE book_authors (\n",
    "    book_id INT NOT NULL,\n",
    "    author_id INT NOT NULL,\n",
    "    PRIMARY KEY(book_id, author_id),\n",
    "    CONSTRAINT fk_book FOREIGN KEY(book_id) REFERENCES books(book_id) ON DELETE CASCADE,\n",
    "    CONSTRAINT fk_author FOREIGN KEY(author_id) REFERENCES authors(author_id) ON DELETE CASCADE\n",
    ");\"\"\"\n",
    "engine.connect().execute(text(query))\n"
   ]
  },
  {
   "cell_type": "code",
   "execution_count": null,
   "metadata": {},
   "outputs": [],
   "source": [
    "query2=\"\"\"-- publishers\n",
    "INSERT INTO publishers(publisher_id, name) VALUES (1, 'O Reilly Media');\n",
    "INSERT INTO publishers(publisher_id, name) VALUES (2, 'A Book Apart');\n",
    "INSERT INTO publishers(publisher_id, name) VALUES (3, 'A K PETERS');\n",
    "INSERT INTO publishers(publisher_id, name) VALUES (4, 'Academic Press');\n",
    "INSERT INTO publishers(publisher_id, name) VALUES (5, 'Addison Wesley');\n",
    "INSERT INTO publishers(publisher_id, name) VALUES (6, 'Albert&Sweigart');\n",
    "INSERT INTO publishers(publisher_id, name) VALUES (7, 'Alfred A. Knopf');\n",
    "\n",
    "-- authors \n",
    "INSERT INTO authors (author_id, first_name, middle_name, last_name) VALUES (1, 'Merritt', null, 'Eric');\n",
    "INSERT INTO authors (author_id, first_name, middle_name, last_name) VALUES (2, 'Linda', null, 'Mui');\n",
    "INSERT INTO authors (author_id, first_name, middle_name, last_name) VALUES (3, 'Alecos', null, 'Papadatos');\n",
    "INSERT INTO authors (author_id, first_name, middle_name, last_name) VALUES (4, 'Anthony', null, 'Molinaro');\n",
    "INSERT INTO authors (author_id, first_name, middle_name, last_name) VALUES (5, 'David', null, 'Cronin');\n",
    "INSERT INTO authors (author_id, first_name, middle_name, last_name) VALUES (6, 'Richard', null, 'Blum');\n",
    "INSERT INTO authors (author_id, first_name, middle_name, last_name) VALUES (7, 'Yuval', 'Noah', 'Harari');\n",
    "INSERT INTO authors (author_id, first_name, middle_name, last_name) VALUES (8, 'Paul', null, 'Albitz');\n",
    "\n",
    "-- books\n",
    "INSERT INTO books (book_id, title, total_pages, rating, isbn, published_date, publisher_id) VALUES (1, 'Lean Software Development: An Agile Toolkit', 240, 4.17, '9780320000000', '2003-05-18', 5);\n",
    "INSERT INTO books (book_id, title, total_pages, rating, isbn, published_date, publisher_id) VALUES (2, 'Facing the Intelligence Explosion', 91, 3.87, null, '2013-02-01', 7);\n",
    "INSERT INTO books (book_id, title, total_pages, rating, isbn, published_date, publisher_id) VALUES (3, 'Scala in Action', 419, 3.74, '9781940000000', '2013-04-10', 1);\n",
    "INSERT INTO books (book_id, title, total_pages, rating, isbn, published_date, publisher_id) VALUES (4, 'Patterns of Software: Tales from the Software Community', 256, 3.84, '9780200000000', '1996-08-15', 1);\n",
    "INSERT INTO books (book_id, title, total_pages, rating, isbn, published_date, publisher_id) VALUES (5, 'Anatomy Of LISP', 446, 4.43, '9780070000000', '1978-01-01', 3);\n",
    "INSERT INTO books (book_id, title, total_pages, rating, isbn, published_date, publisher_id) VALUES (6, 'Computing machinery and intelligence', 24, 4.17, null, '2009-03-22', 4);\n",
    "INSERT INTO books (book_id, title, total_pages, rating, isbn, published_date, publisher_id) VALUES (7, 'XML: Visual QuickStart Guide', 269, 3.66, '9780320000000', '2009-01-01', 5);\n",
    "INSERT INTO books (book_id, title, total_pages, rating, isbn, published_date, publisher_id) VALUES (8, 'SQL Cookbook', 595, 3.95, '9780600000000', '2005-12-01', 7);\n",
    "INSERT INTO books (book_id, title, total_pages, rating, isbn, published_date, publisher_id) VALUES (9, 'The Apollo Guidance Computer: Architecture And Operation (Springer Praxis Books / Space Exploration)', 439, 4.29, '9781440000000', '2010-07-01', 6);\n",
    "INSERT INTO books (book_id, title, total_pages, rating, isbn, published_date, publisher_id) VALUES (10, 'Minds and Computers: An Introduction to the Philosophy of Artificial Intelligence', 222, 3.54, '9780750000000', '2007-02-13', 7);\n",
    "\n",
    "-- book authors\n",
    "INSERT INTO book_authors (book_id, author_id) VALUES (1, 1);\n",
    "INSERT INTO book_authors (book_id, author_id) VALUES (2, 8);\n",
    "INSERT INTO book_authors (book_id, author_id) VALUES (3, 7);\n",
    "INSERT INTO book_authors (book_id, author_id) VALUES (4, 6);\n",
    "INSERT INTO book_authors (book_id, author_id) VALUES (5, 5);\n",
    "INSERT INTO book_authors (book_id, author_id) VALUES (6, 4);\n",
    "INSERT INTO book_authors (book_id, author_id) VALUES (7, 3);\n",
    "INSERT INTO book_authors (book_id, author_id) VALUES (8, 2);\n",
    "INSERT INTO book_authors (book_id, author_id) VALUES (9, 4);\n",
    "INSERT INTO book_authors (book_id, author_id) VALUES (10, 1);\"\"\"\n",
    "engine.connect().execute(text(query2))\n"
   ]
  },
  {
   "cell_type": "code",
   "execution_count": null,
   "metadata": {},
   "outputs": [],
   "source": [
    "dataframe = pd.read_sql(\"Select * from books\", engine.connect().connection)\n",
    "print(result_dataFrame)"
   ]
  }
 ],
 "metadata": {
  "kernelspec": {
   "display_name": "Python 3",
   "language": "python",
   "name": "python3"
  },
  "language_info": {
   "codemirror_mode": {
    "name": "ipython",
    "version": 3
   },
   "file_extension": ".py",
   "mimetype": "text/x-python",
   "name": "python",
   "nbconvert_exporter": "python",
   "pygments_lexer": "ipython3",
   "version": "3.10.12"
  },
  "orig_nbformat": 4
 },
 "nbformat": 4,
 "nbformat_minor": 2
}
